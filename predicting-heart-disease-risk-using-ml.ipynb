{
 "cells": [
  {
   "cell_type": "code",
   "execution_count": 1,
   "id": "babc660b",
   "metadata": {
    "_cell_guid": "b1076dfc-b9ad-4769-8c92-a6c4dae69d19",
    "_uuid": "8f2839f25d086af736a60e9eeb907d3b93b6e0e5",
    "execution": {
     "iopub.execute_input": "2024-12-27T05:46:30.538785Z",
     "iopub.status.busy": "2024-12-27T05:46:30.538342Z",
     "iopub.status.idle": "2024-12-27T05:46:30.904649Z",
     "shell.execute_reply": "2024-12-27T05:46:30.903557Z"
    },
    "papermill": {
     "duration": 0.372191,
     "end_time": "2024-12-27T05:46:30.906283",
     "exception": false,
     "start_time": "2024-12-27T05:46:30.534092",
     "status": "completed"
    },
    "tags": []
   },
   "outputs": [
    {
     "name": "stdout",
     "output_type": "stream",
     "text": [
      "/kaggle/input/heart-disease-dataset/heart.csv\n"
     ]
    }
   ],
   "source": [
    "# This Python 3 environment comes with many helpful analytics libraries installed\n",
    "# It is defined by the kaggle/python Docker image: https://github.com/kaggle/docker-python\n",
    "# For example, here's several helpful packages to load\n",
    "\n",
    "import numpy as np # linear algebra\n",
    "import pandas as pd # data processing, CSV file I/O (e.g. pd.read_csv)\n",
    "\n",
    "# Input data files are available in the read-only \"../input/\" directory\n",
    "# For example, running this (by clicking run or pressing Shift+Enter) will list all files under the input directory\n",
    "\n",
    "import os\n",
    "for dirname, _, filenames in os.walk('/kaggle/input'):\n",
    "    for filename in filenames:\n",
    "        print(os.path.join(dirname, filename))\n",
    "\n",
    "# You can write up to 20GB to the current directory (/kaggle/working/) that gets preserved as output when you create a version using \"Save & Run All\" \n",
    "# You can also write temporary files to /kaggle/temp/, but they won't be saved outside of the current session"
   ]
  },
  {
   "cell_type": "code",
   "execution_count": 2,
   "id": "0c209adc",
   "metadata": {
    "execution": {
     "iopub.execute_input": "2024-12-27T05:46:30.913380Z",
     "iopub.status.busy": "2024-12-27T05:46:30.912979Z",
     "iopub.status.idle": "2024-12-27T05:46:30.947690Z",
     "shell.execute_reply": "2024-12-27T05:46:30.946654Z"
    },
    "papermill": {
     "duration": 0.039722,
     "end_time": "2024-12-27T05:46:30.949357",
     "exception": false,
     "start_time": "2024-12-27T05:46:30.909635",
     "status": "completed"
    },
    "tags": []
   },
   "outputs": [
    {
     "data": {
      "text/html": [
       "<div>\n",
       "<style scoped>\n",
       "    .dataframe tbody tr th:only-of-type {\n",
       "        vertical-align: middle;\n",
       "    }\n",
       "\n",
       "    .dataframe tbody tr th {\n",
       "        vertical-align: top;\n",
       "    }\n",
       "\n",
       "    .dataframe thead th {\n",
       "        text-align: right;\n",
       "    }\n",
       "</style>\n",
       "<table border=\"1\" class=\"dataframe\">\n",
       "  <thead>\n",
       "    <tr style=\"text-align: right;\">\n",
       "      <th></th>\n",
       "      <th>age</th>\n",
       "      <th>sex</th>\n",
       "      <th>cp</th>\n",
       "      <th>trestbps</th>\n",
       "      <th>chol</th>\n",
       "      <th>fbs</th>\n",
       "      <th>restecg</th>\n",
       "      <th>thalach</th>\n",
       "      <th>exang</th>\n",
       "      <th>oldpeak</th>\n",
       "      <th>slope</th>\n",
       "      <th>ca</th>\n",
       "      <th>thal</th>\n",
       "      <th>target</th>\n",
       "    </tr>\n",
       "  </thead>\n",
       "  <tbody>\n",
       "    <tr>\n",
       "      <th>0</th>\n",
       "      <td>52</td>\n",
       "      <td>1</td>\n",
       "      <td>0</td>\n",
       "      <td>125</td>\n",
       "      <td>212</td>\n",
       "      <td>0</td>\n",
       "      <td>1</td>\n",
       "      <td>168</td>\n",
       "      <td>0</td>\n",
       "      <td>1.0</td>\n",
       "      <td>2</td>\n",
       "      <td>2</td>\n",
       "      <td>3</td>\n",
       "      <td>0</td>\n",
       "    </tr>\n",
       "    <tr>\n",
       "      <th>1</th>\n",
       "      <td>53</td>\n",
       "      <td>1</td>\n",
       "      <td>0</td>\n",
       "      <td>140</td>\n",
       "      <td>203</td>\n",
       "      <td>1</td>\n",
       "      <td>0</td>\n",
       "      <td>155</td>\n",
       "      <td>1</td>\n",
       "      <td>3.1</td>\n",
       "      <td>0</td>\n",
       "      <td>0</td>\n",
       "      <td>3</td>\n",
       "      <td>0</td>\n",
       "    </tr>\n",
       "    <tr>\n",
       "      <th>2</th>\n",
       "      <td>70</td>\n",
       "      <td>1</td>\n",
       "      <td>0</td>\n",
       "      <td>145</td>\n",
       "      <td>174</td>\n",
       "      <td>0</td>\n",
       "      <td>1</td>\n",
       "      <td>125</td>\n",
       "      <td>1</td>\n",
       "      <td>2.6</td>\n",
       "      <td>0</td>\n",
       "      <td>0</td>\n",
       "      <td>3</td>\n",
       "      <td>0</td>\n",
       "    </tr>\n",
       "    <tr>\n",
       "      <th>3</th>\n",
       "      <td>61</td>\n",
       "      <td>1</td>\n",
       "      <td>0</td>\n",
       "      <td>148</td>\n",
       "      <td>203</td>\n",
       "      <td>0</td>\n",
       "      <td>1</td>\n",
       "      <td>161</td>\n",
       "      <td>0</td>\n",
       "      <td>0.0</td>\n",
       "      <td>2</td>\n",
       "      <td>1</td>\n",
       "      <td>3</td>\n",
       "      <td>0</td>\n",
       "    </tr>\n",
       "    <tr>\n",
       "      <th>4</th>\n",
       "      <td>62</td>\n",
       "      <td>0</td>\n",
       "      <td>0</td>\n",
       "      <td>138</td>\n",
       "      <td>294</td>\n",
       "      <td>1</td>\n",
       "      <td>1</td>\n",
       "      <td>106</td>\n",
       "      <td>0</td>\n",
       "      <td>1.9</td>\n",
       "      <td>1</td>\n",
       "      <td>3</td>\n",
       "      <td>2</td>\n",
       "      <td>0</td>\n",
       "    </tr>\n",
       "  </tbody>\n",
       "</table>\n",
       "</div>"
      ],
      "text/plain": [
       "   age  sex  cp  trestbps  chol  fbs  restecg  thalach  exang  oldpeak  slope  \\\n",
       "0   52    1   0       125   212    0        1      168      0      1.0      2   \n",
       "1   53    1   0       140   203    1        0      155      1      3.1      0   \n",
       "2   70    1   0       145   174    0        1      125      1      2.6      0   \n",
       "3   61    1   0       148   203    0        1      161      0      0.0      2   \n",
       "4   62    0   0       138   294    1        1      106      0      1.9      1   \n",
       "\n",
       "   ca  thal  target  \n",
       "0   2     3       0  \n",
       "1   0     3       0  \n",
       "2   0     3       0  \n",
       "3   1     3       0  \n",
       "4   3     2       0  "
      ]
     },
     "execution_count": 2,
     "metadata": {},
     "output_type": "execute_result"
    }
   ],
   "source": [
    "data=pd.read_csv(\"/kaggle/input/heart-disease-dataset/heart.csv\")\n",
    "data.head()"
   ]
  },
  {
   "cell_type": "code",
   "execution_count": 3,
   "id": "6ab6b250",
   "metadata": {
    "execution": {
     "iopub.execute_input": "2024-12-27T05:46:30.956790Z",
     "iopub.status.busy": "2024-12-27T05:46:30.956406Z",
     "iopub.status.idle": "2024-12-27T05:46:32.180624Z",
     "shell.execute_reply": "2024-12-27T05:46:32.179537Z"
    },
    "papermill": {
     "duration": 1.229946,
     "end_time": "2024-12-27T05:46:32.182556",
     "exception": false,
     "start_time": "2024-12-27T05:46:30.952610",
     "status": "completed"
    },
    "tags": []
   },
   "outputs": [],
   "source": [
    "from sklearn.model_selection import train_test_split\n",
    "from sklearn.preprocessing import StandardScaler"
   ]
  },
  {
   "cell_type": "code",
   "execution_count": 4,
   "id": "b3ff7d7c",
   "metadata": {
    "execution": {
     "iopub.execute_input": "2024-12-27T05:46:32.189745Z",
     "iopub.status.busy": "2024-12-27T05:46:32.189225Z",
     "iopub.status.idle": "2024-12-27T05:46:32.201470Z",
     "shell.execute_reply": "2024-12-27T05:46:32.200509Z"
    },
    "papermill": {
     "duration": 0.017433,
     "end_time": "2024-12-27T05:46:32.203063",
     "exception": false,
     "start_time": "2024-12-27T05:46:32.185630",
     "status": "completed"
    },
    "tags": []
   },
   "outputs": [],
   "source": [
    "X=data.drop('target',axis=1)\n",
    "y=data['target']"
   ]
  },
  {
   "cell_type": "code",
   "execution_count": 5,
   "id": "4839fb95",
   "metadata": {
    "execution": {
     "iopub.execute_input": "2024-12-27T05:46:32.209713Z",
     "iopub.status.busy": "2024-12-27T05:46:32.209349Z",
     "iopub.status.idle": "2024-12-27T05:46:32.223762Z",
     "shell.execute_reply": "2024-12-27T05:46:32.222783Z"
    },
    "papermill": {
     "duration": 0.019455,
     "end_time": "2024-12-27T05:46:32.225447",
     "exception": false,
     "start_time": "2024-12-27T05:46:32.205992",
     "status": "completed"
    },
    "tags": []
   },
   "outputs": [],
   "source": [
    "X_train,x_test,y_train,y_test=train_test_split(X,y,test_size=0.2,random_state=42)\n",
    "scalar=StandardScaler()\n",
    "X_train=scalar.fit_transform(X_train)\n",
    "x_test=scalar.transform(x_test)"
   ]
  },
  {
   "cell_type": "code",
   "execution_count": 6,
   "id": "443f7b08",
   "metadata": {
    "execution": {
     "iopub.execute_input": "2024-12-27T05:46:32.231985Z",
     "iopub.status.busy": "2024-12-27T05:46:32.231705Z",
     "iopub.status.idle": "2024-12-27T05:46:32.368296Z",
     "shell.execute_reply": "2024-12-27T05:46:32.365171Z"
    },
    "papermill": {
     "duration": 0.142833,
     "end_time": "2024-12-27T05:46:32.371284",
     "exception": false,
     "start_time": "2024-12-27T05:46:32.228451",
     "status": "completed"
    },
    "tags": []
   },
   "outputs": [
    {
     "name": "stdout",
     "output_type": "stream",
     "text": [
      "Accuracy:  0.7951219512195122\n",
      "Classification Report :                precision    recall  f1-score   support\n",
      "\n",
      "           0       0.85      0.72      0.78       102\n",
      "           1       0.76      0.87      0.81       103\n",
      "\n",
      "    accuracy                           0.80       205\n",
      "   macro avg       0.80      0.79      0.79       205\n",
      "weighted avg       0.80      0.80      0.79       205\n",
      "\n",
      "Confusion Matrix:  [[73 29]\n",
      " [13 90]]\n"
     ]
    }
   ],
   "source": [
    "from sklearn.linear_model import LogisticRegression\n",
    "from sklearn.metrics import accuracy_score,classification_report,confusion_matrix\n",
    "model=LogisticRegression()\n",
    "model.fit(X_train,y_train)\n",
    "y_pred=model.predict(x_test)\n",
    "print(\"Accuracy: \",accuracy_score(y_test,y_pred))\n",
    "print(\"Classification Report : \",classification_report(y_test,y_pred))\n",
    "print(\"Confusion Matrix: \",confusion_matrix(y_test,y_pred))"
   ]
  },
  {
   "cell_type": "code",
   "execution_count": 7,
   "id": "f96860bb",
   "metadata": {
    "execution": {
     "iopub.execute_input": "2024-12-27T05:46:32.389292Z",
     "iopub.status.busy": "2024-12-27T05:46:32.388760Z",
     "iopub.status.idle": "2024-12-27T05:46:33.175981Z",
     "shell.execute_reply": "2024-12-27T05:46:33.174706Z"
    },
    "papermill": {
     "duration": 0.798766,
     "end_time": "2024-12-27T05:46:33.177986",
     "exception": false,
     "start_time": "2024-12-27T05:46:32.379220",
     "status": "completed"
    },
    "tags": []
   },
   "outputs": [
    {
     "data": {
      "image/png": "[encoded data removed]",
      "text/plain": [
       "<Figure size 640x480 with 2 Axes>"
      ]
     },
     "metadata": {},
     "output_type": "display_data"
    }
   ],
   "source": [
    "import seaborn as sns\n",
    "import matplotlib.pyplot as plt\n",
    "from sklearn.metrics import ConfusionMatrixDisplay\n",
    "ConfusionMatrixDisplay.from_estimator(model,x_test,y_test,cmap=\"Blues\")\n",
    "plt.show()"
   ]
  },
  {
   "cell_type": "code",
   "execution_count": 8,
   "id": "01fd0e93",
   "metadata": {
    "execution": {
     "iopub.execute_input": "2024-12-27T05:46:33.186893Z",
     "iopub.status.busy": "2024-12-27T05:46:33.186252Z",
     "iopub.status.idle": "2024-12-27T05:46:33.504644Z",
     "shell.execute_reply": "2024-12-27T05:46:33.503572Z"
    },
    "papermill": {
     "duration": 0.325005,
     "end_time": "2024-12-27T05:46:33.506838",
     "exception": false,
     "start_time": "2024-12-27T05:46:33.181833",
     "status": "completed"
    },
    "tags": []
   },
   "outputs": [
    {
     "data": {
      "image/png": "[encoded data removed]",
      "text/plain": [
       "<Figure size 800x600 with 1 Axes>"
      ]
     },
     "metadata": {},
     "output_type": "display_data"
    }
   ],
   "source": [
    "# Ensure 'X' contains original column names\n",
    "columns = X.columns  # Save original feature names\n",
    "\n",
    "# Create DataFrame for feature importance\n",
    "coefficients = pd.DataFrame(model.coef_[0], index=columns, columns=['Importance'])\n",
    "\n",
    "# Plot feature importance\n",
    "coefficients.sort_values(by='Importance', ascending=False).plot(kind='barh', figsize=(8, 6))\n",
    "plt.title(\"Feature Importance\")\n",
    "plt.show()"
   ]
  },
  {
   "cell_type": "code",
   "execution_count": null,
   "id": "6b788d4a",
   "metadata": {
    "papermill": {
     "duration": 0.003681,
     "end_time": "2024-12-27T05:46:33.514839",
     "exception": false,
     "start_time": "2024-12-27T05:46:33.511158",
     "status": "completed"
    },
    "tags": []
   },
   "outputs": [],
   "source": []
  }
 ],
 "metadata": {
  "kaggle": {
   "accelerator": "none",
   "dataSources": [
    {
     "datasetId": 216167,
     "sourceId": 477177,
     "sourceType": "datasetVersion"
    }
   ],
   "dockerImageVersionId": 30822,
   "isGpuEnabled": false,
   "isInternetEnabled": true,
   "language": "python",
   "sourceType": "notebook"
  },
  "kernelspec": {
   "display_name": "Python 3",
   "language": "python",
   "name": "python3"
  },
  "language_info": {
   "codemirror_mode": {
    "name": "ipython",
    "version": 3
   },
   "file_extension": ".py",
   "mimetype": "text/x-python",
   "name": "python",
   "nbconvert_exporter": "python",
   "pygments_lexer": "ipython3",
   "version": "3.10.12"
  },
  "papermill": {
   "default_parameters": {},
   "duration": 5.764729,
   "end_time": "2024-12-27T05:46:34.239393",
   "environment_variables": {},
   "exception": null,
   "input_path": "__notebook__.ipynb",
   "output_path": "__notebook__.ipynb",
   "parameters": {},
   "start_time": "2024-12-27T05:46:28.474664",
   "version": "2.6.0"
  }
 },
 "nbformat": 4,
 "nbformat_minor": 5
}
